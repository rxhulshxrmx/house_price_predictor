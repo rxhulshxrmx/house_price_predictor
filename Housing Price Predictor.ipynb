{
  "nbformat": 4,
  "nbformat_minor": 0,
  "metadata": {
    "colab": {
      "provenance": []
    },
    "kernelspec": {
      "name": "python3",
      "display_name": "Python 3"
    },
    "language_info": {
      "name": "python"
    }
  },
  "cells": [
    {
      "cell_type": "code",
      "execution_count": 1,
      "metadata": {
        "id": "MaU9H1zlL7dt"
      },
      "outputs": [],
      "source": [
        "import numpy as np\n",
        "import pandas as pd\n",
        "import matplotlib.pyplot as plt"
      ]
    },
    {
      "cell_type": "code",
      "source": [
        "# Creating a housing dataset\n",
        "np.random.seed(42)\n",
        "data = pd.DataFrame({\n",
        "    'size': np.random.randint(500, 3500, 100),  # Size in square feet\n",
        "    'bedrooms': np.random.randint(1, 5, 100),   # Number of bedrooms\n",
        "    'age': np.random.randint(1, 30, 100),       # Age of the house\n",
        "    'price': np.random.randint(50000, 500000, 100)  # Price in dollars\n",
        "})"
      ],
      "metadata": {
        "id": "GMEqPGPJMM00"
      },
      "execution_count": 2,
      "outputs": []
    },
    {
      "cell_type": "code",
      "source": [
        "# Display the first few rows of the dataset\n",
        "print(data.head())"
      ],
      "metadata": {
        "colab": {
          "base_uri": "https://localhost:8080/"
        },
        "id": "oyUhUD4xMPLK",
        "outputId": "436bc214-9678-479e-cb21-6c7049757929"
      },
      "execution_count": 3,
      "outputs": [
        {
          "output_type": "stream",
          "name": "stdout",
          "text": [
            "   size  bedrooms  age   price\n",
            "0  1360         4   28  349648\n",
            "1  1794         4   25  182874\n",
            "2  1630         4    7   58155\n",
            "3  1595         3    1  351528\n",
            "4  2138         3    1  424705\n"
          ]
        }
      ]
    },
    {
      "cell_type": "code",
      "source": [
        "# Display the shape and dimensions of the dataset\n",
        "print(f\"Shape of the dataset: {data.shape}\")\n",
        "print(f\"Dimensions of the dataset: {data.ndim}\")"
      ],
      "metadata": {
        "colab": {
          "base_uri": "https://localhost:8080/"
        },
        "id": "y0aCZDyiMSzN",
        "outputId": "9fb9fc32-4996-47a2-f1b8-90b0e49387cf"
      },
      "execution_count": 4,
      "outputs": [
        {
          "output_type": "stream",
          "name": "stdout",
          "text": [
            "Shape of the dataset: (100, 4)\n",
            "Dimensions of the dataset: 2\n"
          ]
        }
      ]
    },
    {
      "cell_type": "code",
      "source": [
        "# Feature selection\n",
        "X = data[['size', 'bedrooms', 'age']].values\n",
        "y = data['price'].values"
      ],
      "metadata": {
        "id": "prIoPutgMVcx"
      },
      "execution_count": 6,
      "outputs": []
    },
    {
      "cell_type": "code",
      "source": [
        "# Normalize features\n",
        "X = (X - np.mean(X, axis=0)) / np.std(X, axis=0)"
      ],
      "metadata": {
        "id": "PpHIBig7Mki_"
      },
      "execution_count": 7,
      "outputs": []
    },
    {
      "cell_type": "code",
      "source": [
        "# Add intercept term to X\n",
        "X = np.c_[np.ones(X.shape[0]), X]"
      ],
      "metadata": {
        "id": "SkImC9dWMnzb"
      },
      "execution_count": 8,
      "outputs": []
    },
    {
      "cell_type": "code",
      "source": [
        "# Initialize parameters\n",
        "theta = np.zeros(X.shape[1])"
      ],
      "metadata": {
        "id": "Oq78F219Mqu8"
      },
      "execution_count": 9,
      "outputs": []
    },
    {
      "cell_type": "code",
      "source": [
        "# Set learning rate and number of iterations\n",
        "alpha = 0.01\n",
        "iterations = 1000"
      ],
      "metadata": {
        "id": "Cx9_dlRsMwSK"
      },
      "execution_count": 10,
      "outputs": []
    },
    {
      "cell_type": "code",
      "source": [
        "# Gradient Descent\n",
        "def gradient_descent(X, y, theta, alpha, iterations):\n",
        "    m = len(y)\n",
        "    for i in range(iterations):\n",
        "        gradient = (1/m) * X.T @ (X @ theta - y)\n",
        "        theta -= alpha * gradient\n",
        "    return theta"
      ],
      "metadata": {
        "id": "e9cuPAU4Mym9"
      },
      "execution_count": null,
      "outputs": []
    },
    {
      "cell_type": "code",
      "source": [
        "# Train the model\n",
        "theta = gradient_descent(X, y, theta, alpha, iterations)\n",
        "print(f\"Model parameters: {theta}\")"
      ],
      "metadata": {
        "colab": {
          "base_uri": "https://localhost:8080/"
        },
        "id": "lqzwdajEM4xj",
        "outputId": "7d9ab73f-9d98-4582-d5eb-1a29e4851720"
      },
      "execution_count": 12,
      "outputs": [
        {
          "output_type": "stream",
          "name": "stdout",
          "text": [
            "Model parameters: [272474.21644034 -16376.1321944  -20344.6490338  -17390.93792511]\n"
          ]
        }
      ]
    },
    {
      "cell_type": "code",
      "source": [
        "# Prediction function\n",
        "def predict(X, theta):\n",
        "    return X @ theta"
      ],
      "metadata": {
        "id": "pv7M9RfEM5Wf"
      },
      "execution_count": 13,
      "outputs": []
    },
    {
      "cell_type": "code",
      "source": [
        "# Features for the new house: size, bedrooms, age\n",
        "\n",
        "size = 2500\n",
        "bedrooms = 3\n",
        "age = 10\n",
        "\n",
        "# Normalize the new house features using the same mean and std as the training data\n",
        "size_normalized = (size - np.mean(data['size'])) / np.std(data['size'])\n",
        "bedrooms_normalized = (bedrooms - np.mean(data['bedrooms'])) / np.std(data['bedrooms'])\n",
        "age_normalized = (age - np.mean(data['age'])) / np.std(data['age'])\n",
        "\n",
        "# New house features including the intercept term\n",
        "new_house_features = np.array([1, size_normalized, bedrooms_normalized, age_normalized])\n",
        "\n",
        "# Predict the price\n",
        "predicted_price = predict(new_house_features, theta)\n",
        "print(f\"Predicted Price: {predicted_price}\")\n"
      ],
      "metadata": {
        "colab": {
          "base_uri": "https://localhost:8080/"
        },
        "id": "ikAeXIGMM7sC",
        "outputId": "954627ee-4223-4062-bf5e-bc20958bf9d1"
      },
      "execution_count": 18,
      "outputs": [
        {
          "output_type": "stream",
          "name": "stdout",
          "text": [
            "Predicted Price: 264689.55361701705\n"
          ]
        }
      ]
    },
    {
      "cell_type": "code",
      "source": [
        "plot_cost_function(X, y, theta, alpha, iterations)"
      ],
      "metadata": {
        "id": "TcQCQGpbNTnN",
        "outputId": "80584f6c-a746-4b09-9f79-1595b4474c4d",
        "colab": {
          "base_uri": "https://localhost:8080/",
          "height": 472
        }
      },
      "execution_count": 16,
      "outputs": [
        {
          "output_type": "display_data",
          "data": {
            "text/plain": [
              "<Figure size 640x480 with 1 Axes>"
            ],
            "image/png": "[encoded data removed]"
          },
          "metadata": {}
        }
      ]
    }
  ]
}